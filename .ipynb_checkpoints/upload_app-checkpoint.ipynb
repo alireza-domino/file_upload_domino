{
 "cells": [
  {
   "cell_type": "code",
   "execution_count": 1,
   "metadata": {},
   "outputs": [
    {
     "name": "stdout",
     "output_type": "stream",
     "text": [
      "\u001b[33mWARNING: The directory '/home/ubuntu/.cache/pip' or its parent directory is not owned or is not writable by the current user. The cache has been disabled. Check the permissions and owner of that directory. If executing pip with sudo, you may want sudo's -H flag.\u001b[0m\n",
      "Collecting dash==0.21.0\n",
      "  Downloading dash-0.21.0.tar.gz (15 kB)\n",
      "Collecting dash-core-components==0.21.1\n",
      "  Downloading dash_core_components-0.21.1.tar.gz (1.9 MB)\n",
      "\u001b[K     |████████████████████████████████| 1.9 MB 7.8 MB/s eta 0:00:01\n",
      "\u001b[?25hCollecting dash-html-components==0.9.0\n",
      "  Downloading dash_html_components-0.9.0.tar.gz (45 kB)\n",
      "\u001b[K     |████████████████████████████████| 45 kB 73.0 MB/s eta 0:00:01\n",
      "\u001b[?25hCollecting dash-renderer==0.12.1\n",
      "  Downloading dash_renderer-0.12.1.tar.gz (160 kB)\n",
      "\u001b[K     |████████████████████████████████| 160 kB 106.1 MB/s eta 0:00:01\n",
      "\u001b[?25hCollecting dash-table-experiments==0.6.0\n",
      "  Downloading dash_table_experiments-0.6.0.tar.gz (738 kB)\n",
      "\u001b[K     |████████████████████████████████| 738 kB 98.9 MB/s eta 0:00:01\n",
      "\u001b[?25hRequirement already satisfied: Flask>=0.12 in /opt/conda/lib/python3.6/site-packages (from dash==0.21.0) (1.0.2)\n",
      "Requirement already satisfied: flask-compress in /opt/conda/lib/python3.6/site-packages (from dash==0.21.0) (1.4.0)\n",
      "Collecting plotly\n",
      "  Downloading plotly-5.6.0-py2.py3-none-any.whl (27.7 MB)\n",
      "\u001b[K     |████████████████████████████████| 27.7 MB 23.7 MB/s eta 0:00:01\n",
      "\u001b[?25hRequirement already satisfied: Jinja2>=2.10 in /opt/conda/lib/python3.6/site-packages (from Flask>=0.12->dash==0.21.0) (2.11.2)\n",
      "Requirement already satisfied: Werkzeug>=0.14 in /opt/conda/lib/python3.6/site-packages (from Flask>=0.12->dash==0.21.0) (0.16.1)\n",
      "Requirement already satisfied: itsdangerous>=0.24 in /opt/conda/lib/python3.6/site-packages (from Flask>=0.12->dash==0.21.0) (0.24)\n",
      "Requirement already satisfied: click>=5.1 in /opt/conda/lib/python3.6/site-packages (from Flask>=0.12->dash==0.21.0) (6.7)\n",
      "Collecting tenacity>=6.2.0\n",
      "  Downloading tenacity-8.0.1-py3-none-any.whl (24 kB)\n",
      "Requirement already satisfied: six in /opt/conda/lib/python3.6/site-packages (from plotly->dash==0.21.0) (1.14.0)\n",
      "Requirement already satisfied: MarkupSafe>=0.23 in /opt/conda/lib/python3.6/site-packages (from Jinja2>=2.10->Flask>=0.12->dash==0.21.0) (1.1.1)\n",
      "Building wheels for collected packages: dash, dash-core-components, dash-html-components, dash-renderer, dash-table-experiments\n",
      "  Building wheel for dash (setup.py) ... \u001b[?25ldone\n",
      "\u001b[?25h  Created wheel for dash: filename=dash-0.21.0-py3-none-any.whl size=17577 sha256=db3999773ef46e0aa298b0a706c9fc1b6501f62ecd94ecee7babeff7f44faa63\n",
      "  Stored in directory: /tmp/pip-ephem-wheel-cache-8pcy30s8/wheels/cc/06/1f/431467780583b82f0dbdfceacf6d7ac9de1b2b90132d359ca6\n",
      "  Building wheel for dash-core-components (setup.py) ... \u001b[?25ldone\n",
      "\u001b[?25h  Created wheel for dash-core-components: filename=dash_core_components-0.21.1-py3-none-any.whl size=1962668 sha256=fcedfdf744701620976494623caf746c2d5458f07942a2c0bf7802529d31c6d2\n",
      "  Stored in directory: /tmp/pip-ephem-wheel-cache-8pcy30s8/wheels/76/85/a0/20c5f901bf970e79115d46888171be37cd4e24f4a4c667c693\n",
      "  Building wheel for dash-html-components (setup.py) ... \u001b[?25ldone\n",
      "\u001b[?25h  Created wheel for dash-html-components: filename=dash_html_components-0.9.0-py3-none-any.whl size=47432 sha256=49addc5767b4f1776fe7c6dbbdc4ee0083bc563c0715bf1a2ab964967ab23027\n",
      "  Stored in directory: /tmp/pip-ephem-wheel-cache-8pcy30s8/wheels/01/0e/27/648d3ba905eb51c8ca8fe978a21c2e5eb57e7b4f1dc9498237\n",
      "  Building wheel for dash-renderer (setup.py) ... \u001b[?25ldone\n",
      "\u001b[?25h  Created wheel for dash-renderer: filename=dash_renderer-0.12.1-py3-none-any.whl size=164333 sha256=cd4a19cb6ab87443f51a1e01cc4d0c5af5d80ada5667016c391d605f1f591571\n",
      "  Stored in directory: /tmp/pip-ephem-wheel-cache-8pcy30s8/wheels/09/2b/62/0a8c94aa71464a390913c91338baca0e8d610772c8b941f78d\n",
      "  Building wheel for dash-table-experiments (setup.py) ... \u001b[?25ldone\n",
      "\u001b[?25h  Created wheel for dash-table-experiments: filename=dash_table_experiments-0.6.0-py3-none-any.whl size=746789 sha256=7f1666b42d436eb5cc71f9784d1532330061201115f0ef0d1fd26ca824e656d3\n",
      "  Stored in directory: /tmp/pip-ephem-wheel-cache-8pcy30s8/wheels/b7/57/dd/969c60abda0fca560024536951c69074c9b1210439e58b6769\n",
      "Successfully built dash dash-core-components dash-html-components dash-renderer dash-table-experiments\n",
      "Installing collected packages: tenacity, plotly, dash, dash-core-components, dash-html-components, dash-renderer, dash-table-experiments\n",
      "Successfully installed dash-0.21.0 dash-core-components-0.21.1 dash-html-components-0.9.0 dash-renderer-0.12.1 dash-table-experiments-0.6.0 plotly-5.6.0 tenacity-8.0.1\n",
      "\u001b[33mWARNING: You are using pip version 20.1; however, version 21.3.1 is available.\n",
      "You should consider upgrading via the '/opt/conda/bin/python -m pip install --upgrade pip' command.\u001b[0m\n"
     ]
    }
   ],
   "source": [
    "!sudo pip install dash==0.21.0 \\\n",
    "                  dash-core-components==0.21.1\\\n",
    "                  dash-html-components==0.9.0\\\n",
    "                  dash-renderer==0.12.1\\\n",
    "                  dash-table-experiments==0.6.0"
   ]
  },
  {
   "cell_type": "code",
   "execution_count": 2,
   "metadata": {},
   "outputs": [],
   "source": [
    "import base64\n",
    "import os\n",
    "from urllib.parse import quote as urlquote\n",
    "\n",
    "from flask import Flask, send_from_directory\n",
    "import dash\n",
    "import dash_core_components as dcc\n",
    "import dash_html_components as html\n",
    "from dash.dependencies import Input, Output"
   ]
  },
  {
   "cell_type": "code",
   "execution_count": 3,
   "metadata": {},
   "outputs": [],
   "source": [
    "UPLOAD_DIRECTORY = \"./project/app_uploaded_files\"\n",
    "\n",
    "if not os.path.exists(UPLOAD_DIRECTORY):\n",
    "    os.makedirs(UPLOAD_DIRECTORY)"
   ]
  },
  {
   "cell_type": "code",
   "execution_count": 4,
   "metadata": {},
   "outputs": [
    {
     "name": "stdout",
     "output_type": "stream",
     "text": [
      "'Screen Shot 2022-03-08 at 2.03.17 PM.png'\n",
      "'Screen Shot 2022-03-08 at 2.06.50 PM.png'\n"
     ]
    }
   ],
   "source": [
    "ls {UPLOAD_DIRECTORY}"
   ]
  },
  {
   "cell_type": "code",
   "execution_count": 5,
   "metadata": {},
   "outputs": [
    {
     "name": "stdout",
     "output_type": "stream",
     "text": [
      "<Domino url>alireza_mounesisohi/file_upload_test/notebookSession/622859d4036f283ff8c9abfd/proxy/8882\n"
     ]
    }
   ],
   "source": [
    "#server = Flask(__name__)\n",
    "#app = dash.Dash(server=server)\n",
    "\n",
    "portID = '8882'\n",
    "runID = os.environ['DOMINO_RUN_ID']\n",
    "user = os.environ['DOMINO_PROJECT_OWNER']\n",
    "project = os.environ['DOMINO_PROJECT_NAME']\n",
    "\n",
    "app_path = '<Domino url>'+ user + '/' + project +'/notebookSession/' + runID + '/proxy/' + portID\n",
    "assets_path = app_path + '/assets/'\n",
    "print(app_path)\n",
    "\n",
    "#set the external path to the assets folder\n",
    "app = dash.Dash(assets_external_path = assets_path)\n",
    "#app = dash.Dash()\n",
    "\n",
    "app.scripts.config.serve_locally = True\n",
    "app.css.config.serve_locally = True    \n",
    "app = dash.Dash()\n",
    " \n",
    "app.scripts.config.serve_locally = True\n",
    "# app.css.config.serve_locally = True\n",
    " \n",
    "################################################################\n",
    "# Configure path for dependencies. This is required for Domino.\n",
    "#Learn more about Dash on Domino https://blog.dominodatalab.com/building-domino-web-app-dash/\n",
    "app.config.routes_pathname_prefix=''+portID+'/'\n",
    "app.config.requests_pathname_prefix=''+portID+'/'\n",
    "#################################################################\n"
   ]
  },
  {
   "cell_type": "code",
   "execution_count": 6,
   "metadata": {},
   "outputs": [],
   "source": [
    "def download(path):\n",
    "    \"\"\"Serve a file from the upload directory.\"\"\"\n",
    "    return send_from_directory(UPLOAD_DIRECTORY, path, as_attachment=True)\n",
    "\n",
    "\n",
    "app.layout = html.Div(\n",
    "    [\n",
    "        html.H1(\"File Browser\"),\n",
    "        html.H2(\"Upload\"),\n",
    "        dcc.Upload(\n",
    "            id=\"upload-data\",\n",
    "            children=html.Div(\n",
    "                [\"Drag and drop or click to select a file to upload.\"]\n",
    "            ),\n",
    "            style={\n",
    "                \"width\": \"100%\",\n",
    "                \"height\": \"60px\",\n",
    "                \"lineHeight\": \"60px\",\n",
    "                \"borderWidth\": \"1px\",\n",
    "                \"borderStyle\": \"dashed\",\n",
    "                \"borderRadius\": \"5px\",\n",
    "                \"textAlign\": \"center\",\n",
    "                \"margin\": \"10px\",\n",
    "            },\n",
    "            multiple=True,\n",
    "        ),\n",
    "        html.H2(\"File List\"),\n",
    "        html.Ul(id=\"file-list\"),\n",
    "    ],\n",
    "    style={\"max-width\": \"500px\"},\n",
    ")\n",
    "\n",
    "\n",
    "def save_file(name, content):\n",
    "    \"\"\"Decode and store a file uploaded with Plotly Dash.\"\"\"\n",
    "    data = content.encode(\"utf8\").split(b\";base64,\")[1]\n",
    "    with open(os.path.join(UPLOAD_DIRECTORY, name), \"wb\") as fp:\n",
    "        fp.write(base64.decodebytes(data))\n",
    "\n",
    "\n",
    "def uploaded_files():\n",
    "    \"\"\"List the files in the upload directory.\"\"\"\n",
    "    files = []\n",
    "    for filename in os.listdir(UPLOAD_DIRECTORY):\n",
    "        path = os.path.join(UPLOAD_DIRECTORY, filename)\n",
    "        if os.path.isfile(path):\n",
    "            files.append(filename)\n",
    "    return files\n",
    "\n",
    "\n",
    "def file_download_link(filename):\n",
    "    \"\"\"Create a Plotly Dash 'A' element that downloads a file from the app.\"\"\"\n",
    "    location = \"./\" #download/{}\".format(urlquote(filename))\n",
    "    return html.A(filename, href=location)\n"
   ]
  },
  {
   "cell_type": "code",
   "execution_count": 7,
   "metadata": {},
   "outputs": [],
   "source": [
    "@app.callback(\n",
    "    Output(\"file-list\", \"children\"),\n",
    "    [Input(\"upload-data\", \"filename\"), Input(\"upload-data\", \"contents\")],\n",
    ")\n",
    "\n",
    "def update_output(uploaded_filenames, uploaded_file_contents):\n",
    "    \"\"\"Save uploaded files and regenerate the file list.\"\"\"\n",
    "\n",
    "    if uploaded_filenames is not None and uploaded_file_contents is not None:\n",
    "        for name, data in zip(uploaded_filenames, uploaded_file_contents):\n",
    "            save_file(name, data)\n",
    "\n",
    "    files = uploaded_files()\n",
    "    \n",
    "    if len(files) == 0:\n",
    "        return [html.Li(\"No files yet!\")]\n",
    "    else:\n",
    "        return [html.Li(file_download_link(filename)) for filename in files]"
   ]
  },
  {
   "cell_type": "code",
   "execution_count": 8,
   "metadata": {},
   "outputs": [
    {
     "name": "stdout",
     "output_type": "stream",
     "text": [
      " * Serving Flask app \"dash\" (lazy loading)\n",
      " * Environment: production\n",
      "   WARNING: Do not use the development server in a production environment.\n",
      "   Use a production WSGI server instead.\n",
      " * Debug mode: off\n"
     ]
    },
    {
     "name": "stderr",
     "output_type": "stream",
     "text": [
      " * Running on http://0.0.0.0:8882/ (Press CTRL+C to quit)\n",
      "127.0.0.1 - - [09/Mar/2022 07:42:56] \"\u001b[37mGET / HTTP/1.1\u001b[0m\" 200 -\n",
      "127.0.0.1 - - [09/Mar/2022 07:42:56] \"\u001b[37mGET /_dash-component-suites/dash_core_components/rc-slider@6.1.2.css?v=0.21.1 HTTP/1.1\u001b[0m\" 200 -\n",
      "127.0.0.1 - - [09/Mar/2022 07:42:56] \"\u001b[37mGET /_dash-component-suites/dash_renderer/react-dom@15.4.2.min.js?v=0.12.1 HTTP/1.1\u001b[0m\" 200 -\n",
      "127.0.0.1 - - [09/Mar/2022 07:42:56] \"\u001b[37mGET /_dash-component-suites/dash_core_components/react-virtualized@9.9.0.css?v=0.21.1 HTTP/1.1\u001b[0m\" 200 -\n",
      "127.0.0.1 - - [09/Mar/2022 07:42:56] \"\u001b[37mGET /_dash-component-suites/dash_core_components/react-dates@12.3.0.css?v=0.21.1 HTTP/1.1\u001b[0m\" 200 -\n",
      "127.0.0.1 - - [09/Mar/2022 07:42:56] \"\u001b[37mGET /_dash-component-suites/dash_core_components/react-virtualized-select@3.1.0.css?v=0.21.1 HTTP/1.1\u001b[0m\" 200 -\n",
      "127.0.0.1 - - [09/Mar/2022 07:42:56] \"\u001b[37mGET /_dash-component-suites/dash_renderer/react@15.4.2.min.js?v=0.12.1 HTTP/1.1\u001b[0m\" 200 -\n",
      "127.0.0.1 - - [09/Mar/2022 07:42:56] \"\u001b[37mGET /_dash-component-suites/dash_core_components/react-select@1.0.0-rc.3.min.css?v=0.21.1 HTTP/1.1\u001b[0m\" 200 -\n",
      "127.0.0.1 - - [09/Mar/2022 07:42:56] \"\u001b[37mGET /_dash-component-suites/dash_html_components/bundle.js?v=0.9.0 HTTP/1.1\u001b[0m\" 200 -\n",
      "127.0.0.1 - - [09/Mar/2022 07:42:56] \"\u001b[37mGET /_dash-component-suites/dash_core_components/plotly-1.35.2.min.js?v=0.21.1 HTTP/1.1\u001b[0m\" 200 -\n",
      "127.0.0.1 - - [09/Mar/2022 07:42:56] \"\u001b[37mGET /_dash-component-suites/dash_core_components/bundle.js?v=0.21.1 HTTP/1.1\u001b[0m\" 200 -\n",
      "127.0.0.1 - - [09/Mar/2022 07:42:56] \"\u001b[37mGET /_dash-component-suites/dash_renderer/bundle.js?v=0.12.1 HTTP/1.1\u001b[0m\" 200 -\n",
      "127.0.0.1 - - [09/Mar/2022 07:42:58] \"\u001b[37mGET /_dash-layout HTTP/1.1\u001b[0m\" 200 -\n",
      "127.0.0.1 - - [09/Mar/2022 07:42:58] \"\u001b[37mGET /_dash-dependencies HTTP/1.1\u001b[0m\" 200 -\n",
      "127.0.0.1 - - [09/Mar/2022 07:42:58] \"\u001b[37mPOST /_dash-update-component HTTP/1.1\u001b[0m\" 200 -\n"
     ]
    }
   ],
   "source": [
    "if __name__ == '__main__':\n",
    "    app.run_server(host='0.0.0.0',port=int(portID)) # Domino hosts all apps at 0.0.0.0:8888"
   ]
  },
  {
   "cell_type": "code",
   "execution_count": null,
   "metadata": {},
   "outputs": [],
   "source": []
  }
 ],
 "metadata": {
  "kernelspec": {
   "display_name": "Python 3",
   "language": "python",
   "name": "python3"
  },
  "language_info": {
   "codemirror_mode": {
    "name": "ipython",
    "version": 3
   },
   "file_extension": ".py",
   "mimetype": "text/x-python",
   "name": "python",
   "nbconvert_exporter": "python",
   "pygments_lexer": "ipython3",
   "version": "3.6.10"
  }
 },
 "nbformat": 4,
 "nbformat_minor": 4
}
